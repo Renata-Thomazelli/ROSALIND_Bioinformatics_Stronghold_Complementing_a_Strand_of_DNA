{
 "cells": [
  {
   "cell_type": "markdown",
   "metadata": {},
   "source": [
    "# <font color=red> COMPLEMENTING A STRAND OF DNA"
   ]
  },
  {
   "cell_type": "markdown",
   "metadata": {},
   "source": [
    "> Here we have a good opportunity to understand how a strand of DNA works and also how to handle it on Python\n",
    ">>we have to replace each molecule with its match and print the reverse complement\n",
    ">>>## Problem\n",
    ">>>>In DNA strings, symbols 'A' and 'T' are complements of each other, as are 'C' and 'G'.\\\n",
    ">>>>The reverse complement of a DNA string s is the string sc formed by reversing the symbols of s, then taking the complement of each symbol (e.g., the reverse complement of \"GTCA\" is \"TGAC\")."
   ]
  },
  {
   "cell_type": "code",
   "execution_count": 5,
   "metadata": {},
   "outputs": [],
   "source": [
    "s= \"ATGTTCTTCTTACAAATGTGGCCCATTGTCGTCGAATAAGCGACTGCGTGCCGTGTGACCGTTTTGGAGCCTAATAGACGGTCAGAAGCTTCCGATAAAACGACGGCAATCCCTCCGTTGTGCCGTGACTGTCGTGATAATTCAGTATCGTGGGCGATCGGCCGTCGGGTGAGCTGTGAACGTCAGGCGCACCTAGGGTAGCGTTTACAACTAGTTTAGCTAATATAAGTTGTTAGGCAGCCCCTTACTAATCGCAATTGTCTCACATGTTACGTAGTTGCGGACGGAGGTCTGAGCACAGACCTATATCGCTAAGTGAAAGCTTGGAGTCTCTCAGCGCGCTTTGAACCAGGTTTGGGAGGGCAGCTCGAGTGACCCAAAAATCTAGTAGTAGCAGAGTCTTGGACTGGCAATGACTTCACTGAAGCTACGTCGTCCTTTGACTCGATGAGTCGCACTGATAATTCACTTCCTTGGTCTGCGATGGCAAGGCGTAATCGCCGCCGATGCTCGTGACTACAATGTGGGGGTAGATAGACTATAGGAATCGTAATTTCTGGAGACTTAGAGACGATGAGCGACATATGGCGGACTAGTTTCCATAAAGCTACGTCAATCCATTCAGGTGTAATTGACTGGTTCTAAGGACGTGCTAGGTGTGGTTAAACACAATATTCCACGCCATAGGAACGCCCCCGATGACGTAGTTTGCTGCTGGGATTCCTTCAGCCGAGGGACTATCATAGCGGGGCTGCTTGACCGGCGTTATGACATTATTGCCCACAATCTGGCCGGGTAGTGCACCCGCAGGCGCGCAACTTAATAGGGAGATGGGCAGTTATTCATTCAACCACCAAGTTACATCCTAGGCTCACCGTGGCATTATTTAGGATAGCGTCTCA\"\n",
    "# Here we have our strand of DNA.\n",
    "\n"
   ]
  },
  {
   "cell_type": "markdown",
   "metadata": {},
   "source": [
    "#### How was describe in the Problem we have to mach each molecule with its reverse complement.\n"
   ]
  },
  {
   "cell_type": "markdown",
   "metadata": {},
   "source": [
    "|Molecule|Molecule|\n",
    "|:------:|:------:|\n",
    "|Adenine|Thymine|\n",
    "|Guanine|Cytosine|\n",
    "\n",
    "\n",
    "It means Adneine with Thymine and the other way around."
   ]
  },
  {
   "cell_type": "markdown",
   "metadata": {},
   "source": [
    "![][DNApair]\n",
    "\n",
    "[DNApair]:https://upload.wikimedia.org/wikipedia/commons/thumb/d/db/Base_pair_AT.svg/280px-Base_pair_AT.svg.png \"Base\"\n",
    "\n",
    "![][DNApair2]\n",
    "\n",
    "[DNApair2]:https://upload.wikimedia.org/wikipedia/commons/thumb/6/64/Base_pair_GC.svg/280px-Base_pair_GC.svg.png \"Base2\"\n"
   ]
  },
  {
   "cell_type": "code",
   "execution_count": 8,
   "metadata": {
    "scrolled": true
   },
   "outputs": [
    {
     "name": "stdout",
     "output_type": "stream",
     "text": [
      "tacaagaagaatgtttacaccgggtaacagcagcttattcgctgacgcacggcacactggcaaaacctcggattatctgccagtcttcgaaggctattttgctgccgttagggaggcaacacggcactgacagcactattaagtcatagcacccgctagccggcagcccactcgacacttgcagtccgcgtggatcccatcgcaaatgttgatcaaatcgattatattcaacaatccgtcggggaatgattagcgttaacagagtgtacaatgcatcaacgcctgcctccagactcgtgtctggatatagcgattcactttcgaacctcagagagtcgcgcgaaacttggtccaaaccctcccgtcgagctcactgggtttttagatcatcatcgtctcagaacctgaccgttactgaagtgacttcgatgcagcaggaaactgagctactcagcgtgactattaagtgaaggaaccagacgctaccgttccgcattagcggcggctacgagcactgatgttacacccccatctatctgatatccttagcattaaagacctctgaatctctgctactcgctgtataccgcctgatcaaaggtatttcgatgcagttaggtaagtccacattaactgaccaagattcctgcacgatccacaccaatttgtgttataaggtgcggtatccttgcgggggctactgcatcaaacgacgaccctaaggaagtcggctccctgatagtatcgccccgacgaactggccgcaatactgtaataacgggtgttagaccggcccatcacgtgggcgtccgcgcgttgaattatccctctacccgtcaataagtaagttggtggttcaatgtaggatccgagtggcaccgtaataaatcctatcgcagagt\n"
     ]
    }
   ],
   "source": [
    "s= \"ATGTTCTTCTTACAAATGTGGCCCATTGTCGTCGAATAAGCGACTGCGTGCCGTGTGACCGTTTTGGAGCCTAATAGACGGTCAGAAGCTTCCGATAAAACGACGGCAATCCCTCCGTTGTGCCGTGACTGTCGTGATAATTCAGTATCGTGGGCGATCGGCCGTCGGGTGAGCTGTGAACGTCAGGCGCACCTAGGGTAGCGTTTACAACTAGTTTAGCTAATATAAGTTGTTAGGCAGCCCCTTACTAATCGCAATTGTCTCACATGTTACGTAGTTGCGGACGGAGGTCTGAGCACAGACCTATATCGCTAAGTGAAAGCTTGGAGTCTCTCAGCGCGCTTTGAACCAGGTTTGGGAGGGCAGCTCGAGTGACCCAAAAATCTAGTAGTAGCAGAGTCTTGGACTGGCAATGACTTCACTGAAGCTACGTCGTCCTTTGACTCGATGAGTCGCACTGATAATTCACTTCCTTGGTCTGCGATGGCAAGGCGTAATCGCCGCCGATGCTCGTGACTACAATGTGGGGGTAGATAGACTATAGGAATCGTAATTTCTGGAGACTTAGAGACGATGAGCGACATATGGCGGACTAGTTTCCATAAAGCTACGTCAATCCATTCAGGTGTAATTGACTGGTTCTAAGGACGTGCTAGGTGTGGTTAAACACAATATTCCACGCCATAGGAACGCCCCCGATGACGTAGTTTGCTGCTGGGATTCCTTCAGCCGAGGGACTATCATAGCGGGGCTGCTTGACCGGCGTTATGACATTATTGCCCACAATCTGGCCGGGTAGTGCACCCGCAGGCGCGCAACTTAATAGGGAGATGGGCAGTTATTCATTCAACCACCAAGTTACATCCTAGGCTCACCGTGGCATTATTTAGGATAGCGTCTCA\"\n",
    "# Here we have our strand of DNA.\n",
    "\n",
    "# How was describe in the Problem we have to mach it with its reverse complement.\n",
    "\n",
    "\n",
    "\n",
    "reverse_complement = {'A': 't',\n",
    "                   'T': 'a',\n",
    "                   'C': 'g',\n",
    "                   'G':'c'}\n",
    "# Iterate over all key-value pairs in dictionary\n",
    "for key, value in reverse_complement.items():\n",
    "    # Now we go replace the key character with its value character in the string\n",
    "    s = s.replace(key, value)\n",
    "print(s)"
   ]
  },
  {
   "cell_type": "markdown",
   "metadata": {},
   "source": [
    "You must be asking yourself why I did this as a low case, so it is simple, we do this as an Upper letter the program be lost, once it is done and change A for T, and then it needs to change again T for A. It will transform every T in A, no matter if it has already changed it on T.\n",
    "So to avoid this behavior we put it in low case."
   ]
  },
  {
   "cell_type": "code",
   "execution_count": 9,
   "metadata": {},
   "outputs": [],
   "source": [
    "# Now let's use Upper Case.\n",
    "sc=s.upper()"
   ]
  },
  {
   "cell_type": "code",
   "execution_count": 10,
   "metadata": {},
   "outputs": [],
   "source": [
    "# Now we need to change it to the reverse order.\n",
    "sc=s.upper()[::-1]"
   ]
  },
  {
   "cell_type": "code",
   "execution_count": 11,
   "metadata": {},
   "outputs": [
    {
     "name": "stdout",
     "output_type": "stream",
     "text": [
      "TGAGACGCTATCCTAAATAATGCCACGGTGAGCCTAGGATGTAACTTGGTGGTTGAATGAATAACTGCCCATCTCCCTATTAAGTTGCGCGCCTGCGGGTGCACTACCCGGCCAGATTGTGGGCAATAATGTCATAACGCCGGTCAAGCAGCCCCGCTATGATAGTCCCTCGGCTGAAGGAATCCCAGCAGCAAACTACGTCATCGGGGGCGTTCCTATGGCGTGGAATATTGTGTTTAACCACACCTAGCACGTCCTTAGAACCAGTCAATTACACCTGAATGGATTGACGTAGCTTTATGGAAACTAGTCCGCCATATGTCGCTCATCGTCTCTAAGTCTCCAGAAATTACGATTCCTATAGTCTATCTACCCCCACATTGTAGTCACGAGCATCGGCGGCGATTACGCCTTGCCATCGCAGACCAAGGAAGTGAATTATCAGTGCGACTCATCGAGTCAAAGGACGACGTAGCTTCAGTGAAGTCATTGCCAGTCCAAGACTCTGCTACTACTAGATTTTTGGGTCACTCGAGCTGCCCTCCCAAACCTGGTTCAAAGCGCGCTGAGAGACTCCAAGCTTTCACTTAGCGATATAGGTCTGTGCTCAGACCTCCGTCCGCAACTACGTAACATGTGAGACAATTGCGATTAGTAAGGGGCTGCCTAACAACTTATATTAGCTAAACTAGTTGTAAACGCTACCCTAGGTGCGCCTGACGTTCACAGCTCACCCGACGGCCGATCGCCCACGATACTGAATTATCACGACAGTCACGGCACAACGGAGGGATTGCCGTCGTTTTATCGGAAGCTTCTGACCGTCTATTAGGCTCCAAAACGGTCACACGGCACGCAGTCGCTTATTCGACGACAATGGGCCACATTTGTAAGAAGAACAT\n"
     ]
    }
   ],
   "source": [
    "print(sc)\n",
    "# Ok now we finished it."
   ]
  },
  {
   "cell_type": "code",
   "execution_count": null,
   "metadata": {},
   "outputs": [],
   "source": []
  },
  {
   "cell_type": "code",
   "execution_count": 12,
   "metadata": {},
   "outputs": [
    {
     "name": "stdout",
     "output_type": "stream",
     "text": [
      "CGTGGCCTCAAACTCCAAGACAACGCACACTGACCACCCCAGCGGACTACCCACGGTCGTAGATTCCAGTGTACAGCACCTAGACCATAACTATACCGCGAGGGCACTTGCAAACACAAATGTCTCTGACCCTCGGCCCCCGATTACTCATTGGCATGCTATCAAATGGAACATACAATTCTGTTGTCAGGAATCAGGGCCTTAAAATGGTAATAAAGCCCAGTACTATGGTGCGTCTAGATGCCAATCATGGAATTCAGTAGGCCAGGACTTTAGAAGCCCATATCTCCTGGTTCGACTTCCAGGGCCCACCAATTGTATAAGTAGAAGCTTGGGGCTATCAGTCAAATCCAAGGCCTCCGTTCAACATTTTTACCACCTAACAGCTAGAGTGACCTCCAGCTATAGCTCGCTGAACTCTCCAAAGGAGGCTTGTGGCCCTAGGGTGGTTGCAATGATGCTCCGTCTGTAGACCCACCGTCGTTGATTGTCGTCGTATCCTCTCTGAGCCCATTGGGCTGCACGGCCACACATTTGGTGGACCATCAATTAAGCATATAAACTTGTTAAATACATACAGGTCCCAATAAAATAAAGAGCGTTGAACGGAGTGATATCCATAAGGACATAAGCAGACGTGAACGAGGAGTCAAAGCTAGGACTGGGCATAGTAGCCTAACAAGTACGAGCCGCAGACTGGAGAGCTGAAGTTCGCGTACAAGTTCAATCTCCGCGATATTAATTGAGTACACGGTACGCCTCCGTGTTCTTTCTAATTCACGGCCACCCGCTCCGGCGTTGACGGGACCCTATCGACATAATAGTCATTAGTGTATCAGGGATTATATATTCTGGTATCGAAGGTGTCCAATAACCGGTGTAGATAGCGCCCTGATGAAGC\n"
     ]
    }
   ],
   "source": [
    "# Soo we also could to it in one step.\n",
    "\n",
    "s1 = \"GCTTCATCAGGGCGCTATCTACACCGGTTATTGGACACCTTCGATACCAGAATATATAATCCCTGATACACTAATGACTATTATGTCGATAGGGTCCCGTCAACGCCGGAGCGGGTGGCCGTGAATTAGAAAGAACACGGAGGCGTACCGTGTACTCAATTAATATCGCGGAGATTGAACTTGTACGCGAACTTCAGCTCTCCAGTCTGCGGCTCGTACTTGTTAGGCTACTATGCCCAGTCCTAGCTTTGACTCCTCGTTCACGTCTGCTTATGTCCTTATGGATATCACTCCGTTCAACGCTCTTTATTTTATTGGGACCTGTATGTATTTAACAAGTTTATATGCTTAATTGATGGTCCACCAAATGTGTGGCCGTGCAGCCCAATGGGCTCAGAGAGGATACGACGACAATCAACGACGGTGGGTCTACAGACGGAGCATCATTGCAACCACCCTAGGGCCACAAGCCTCCTTTGGAGAGTTCAGCGAGCTATAGCTGGAGGTCACTCTAGCTGTTAGGTGGTAAAAATGTTGAACGGAGGCCTTGGATTTGACTGATAGCCCCAAGCTTCTACTTATACAATTGGTGGGCCCTGGAAGTCGAACCAGGAGATATGGGCTTCTAAAGTCCTGGCCTACTGAATTCCATGATTGGCATCTAGACGCACCATAGTACTGGGCTTTATTACCATTTTAAGGCCCTGATTCCTGACAACAGAATTGTATGTTCCATTTGATAGCATGCCAATGAGTAATCGGGGGCCGAGGGTCAGAGACATTTGTGTTTGCAAGTGCCCTCGCGGTATAGTTATGGTCTAGGTGCTGTACACTGGAATCTACGACCGTGGGTAGTCCGCTGGGGTGGTCAGTGTGCGTTGTCTTGGAGTTTGAGGCCACG\"\n",
    "reverse_complement1 = {'A': 't',\n",
    "                   'T': 'a',\n",
    "                   'C': 'g',\n",
    "                   'G':'c'}\n",
    "# Iterate over all key-value pairs in dictionary\n",
    "for key, value in reverse_complement1.items():\n",
    "    # Replace key character with value character in string\n",
    "    s1 = s1.replace(key, value)\n",
    "print(s1.upper()[::-1])"
   ]
  },
  {
   "cell_type": "code",
   "execution_count": null,
   "metadata": {},
   "outputs": [],
   "source": []
  }
 ],
 "metadata": {
  "kernelspec": {
   "display_name": "Python 3",
   "language": "python",
   "name": "python3"
  },
  "language_info": {
   "codemirror_mode": {
    "name": "ipython",
    "version": 3
   },
   "file_extension": ".py",
   "mimetype": "text/x-python",
   "name": "python",
   "nbconvert_exporter": "python",
   "pygments_lexer": "ipython3",
   "version": "3.7.6"
  }
 },
 "nbformat": 4,
 "nbformat_minor": 4
}
